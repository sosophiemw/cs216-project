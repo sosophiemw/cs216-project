{
 "cells": [
  {
   "cell_type": "code",
   "execution_count": 51,
   "metadata": {},
   "outputs": [
    {
     "name": "stdout",
     "output_type": "stream",
     "text": [
      "Requirement already satisfied: urllib3 in c:\\users\\sophi\\anaconda3\\lib\\site-packages (1.26.15)\n"
     ]
    }
   ],
   "source": [
    "#!pip install billboard.py\n",
    "!pip install urllib3 --upgrade"
   ]
  },
  {
   "cell_type": "code",
   "execution_count": 60,
   "metadata": {},
   "outputs": [
    {
     "name": "stdout",
     "output_type": "stream",
     "text": [
      "Requirement already satisfied: spotipy in c:\\users\\sophi\\anaconda3\\lib\\site-packages (2.22.1)\n",
      "Requirement already satisfied: requests>=2.25.0 in c:\\users\\sophi\\anaconda3\\lib\\site-packages (from spotipy) (2.28.2)\n",
      "Requirement already satisfied: urllib3>=1.26.0 in c:\\users\\sophi\\anaconda3\\lib\\site-packages (from spotipy) (1.26.15)\n",
      "Requirement already satisfied: six>=1.15.0 in c:\\users\\sophi\\anaconda3\\lib\\site-packages (from spotipy) (1.16.0)\n",
      "Requirement already satisfied: redis>=3.5.3 in c:\\users\\sophi\\anaconda3\\lib\\site-packages (from spotipy) (4.5.4)\n",
      "Requirement already satisfied: importlib-metadata>=1.0 in c:\\users\\sophi\\anaconda3\\lib\\site-packages (from redis>=3.5.3->spotipy) (6.1.0)\n",
      "Requirement already satisfied: typing-extensions in c:\\users\\sophi\\anaconda3\\lib\\site-packages (from redis>=3.5.3->spotipy) (4.4.0)\n",
      "Requirement already satisfied: async-timeout>=4.0.2 in c:\\users\\sophi\\anaconda3\\lib\\site-packages (from redis>=3.5.3->spotipy) (4.0.2)\n",
      "Requirement already satisfied: idna<4,>=2.5 in c:\\users\\sophi\\anaconda3\\lib\\site-packages (from requests>=2.25.0->spotipy) (2.8)\n",
      "Requirement already satisfied: certifi>=2017.4.17 in c:\\users\\sophi\\anaconda3\\lib\\site-packages (from requests>=2.25.0->spotipy) (2019.9.11)\n",
      "Requirement already satisfied: charset-normalizer<4,>=2 in c:\\users\\sophi\\anaconda3\\lib\\site-packages (from requests>=2.25.0->spotipy) (3.1.0)\n",
      "Requirement already satisfied: zipp>=0.5 in c:\\users\\sophi\\anaconda3\\lib\\site-packages (from importlib-metadata>=1.0->redis>=3.5.3->spotipy) (0.6.0)\n",
      "Requirement already satisfied: more-itertools in c:\\users\\sophi\\anaconda3\\lib\\site-packages (from zipp>=0.5->importlib-metadata>=1.0->redis>=3.5.3->spotipy) (7.2.0)\n"
     ]
    }
   ],
   "source": [
    "!pip install spotipy --upgrade"
   ]
  },
  {
   "cell_type": "code",
   "execution_count": 3,
   "metadata": {},
   "outputs": [],
   "source": [
    "import billboard"
   ]
  },
  {
   "cell_type": "code",
   "execution_count": 34,
   "metadata": {},
   "outputs": [
    {
     "name": "stdout",
     "output_type": "stream",
     "text": [
      "Poor Little Fool\n"
     ]
    }
   ],
   "source": [
    "chart = billboard.ChartData('hot-100', '1958-08-11')\n",
    "print(chart[0].title)"
   ]
  },
  {
   "cell_type": "code",
   "execution_count": null,
   "metadata": {},
   "outputs": [],
   "source": [
    "let q = String.init(format:\"artist:%@ track:%@\",chart[0].,chart[0].title)"
   ]
  },
  {
   "cell_type": "code",
   "execution_count": 61,
   "metadata": {},
   "outputs": [
    {
     "ename": "TypeError",
     "evalue": "__init__() got an unexpected keyword argument 'allowed_methods'",
     "output_type": "error",
     "traceback": [
      "\u001b[1;31m---------------------------------------------------------------------------\u001b[0m",
      "\u001b[1;31mTypeError\u001b[0m                                 Traceback (most recent call last)",
      "\u001b[1;32m<ipython-input-61-d11884c7acd1>\u001b[0m in \u001b[0;36m<module>\u001b[1;34m\u001b[0m\n\u001b[0;32m      4\u001b[0m \u001b[0mclient_secret\u001b[0m \u001b[1;33m=\u001b[0m \u001b[1;34m'37834be63d5749988113289929707bc0'\u001b[0m\u001b[1;33m\u001b[0m\u001b[1;33m\u001b[0m\u001b[0m\n\u001b[0;32m      5\u001b[0m \u001b[0mclient_credentials_manager\u001b[0m \u001b[1;33m=\u001b[0m \u001b[0mSpotifyClientCredentials\u001b[0m\u001b[1;33m(\u001b[0m\u001b[0mclient_id\u001b[0m\u001b[1;33m,\u001b[0m\u001b[0mclient_secret\u001b[0m\u001b[1;33m)\u001b[0m\u001b[1;33m\u001b[0m\u001b[1;33m\u001b[0m\u001b[0m\n\u001b[1;32m----> 6\u001b[1;33m \u001b[0msp\u001b[0m \u001b[1;33m=\u001b[0m \u001b[0mspotipy\u001b[0m\u001b[1;33m.\u001b[0m\u001b[0mSpotify\u001b[0m\u001b[1;33m(\u001b[0m\u001b[0mclient_credentials_manager\u001b[0m \u001b[1;33m=\u001b[0m \u001b[0mclient_credentials_manager\u001b[0m\u001b[1;33m)\u001b[0m\u001b[1;33m\u001b[0m\u001b[1;33m\u001b[0m\u001b[0m\n\u001b[0m",
      "\u001b[1;32mC:\\Users\\sophi\\Anaconda3\\lib\\site-packages\\spotipy\\client.py\u001b[0m in \u001b[0;36m__init__\u001b[1;34m(self, auth, requests_session, client_credentials_manager, oauth_manager, auth_manager, proxies, requests_timeout, status_forcelist, retries, status_retries, backoff_factor, language)\u001b[0m\n\u001b[0;32m    188\u001b[0m         \u001b[1;32melse\u001b[0m\u001b[1;33m:\u001b[0m\u001b[1;33m\u001b[0m\u001b[1;33m\u001b[0m\u001b[0m\n\u001b[0;32m    189\u001b[0m             \u001b[1;32mif\u001b[0m \u001b[0mrequests_session\u001b[0m\u001b[1;33m:\u001b[0m  \u001b[1;31m# Build a new session.\u001b[0m\u001b[1;33m\u001b[0m\u001b[1;33m\u001b[0m\u001b[0m\n\u001b[1;32m--> 190\u001b[1;33m                 \u001b[0mself\u001b[0m\u001b[1;33m.\u001b[0m\u001b[0m_build_session\u001b[0m\u001b[1;33m(\u001b[0m\u001b[1;33m)\u001b[0m\u001b[1;33m\u001b[0m\u001b[1;33m\u001b[0m\u001b[0m\n\u001b[0m\u001b[0;32m    191\u001b[0m             \u001b[1;32melse\u001b[0m\u001b[1;33m:\u001b[0m  \u001b[1;31m# Use the Requests API module as a \"session\".\u001b[0m\u001b[1;33m\u001b[0m\u001b[1;33m\u001b[0m\u001b[0m\n\u001b[0;32m    192\u001b[0m                 \u001b[0mself\u001b[0m\u001b[1;33m.\u001b[0m\u001b[0m_session\u001b[0m \u001b[1;33m=\u001b[0m \u001b[0mrequests\u001b[0m\u001b[1;33m.\u001b[0m\u001b[0mapi\u001b[0m\u001b[1;33m\u001b[0m\u001b[1;33m\u001b[0m\u001b[0m\n",
      "\u001b[1;32mC:\\Users\\sophi\\Anaconda3\\lib\\site-packages\\spotipy\\client.py\u001b[0m in \u001b[0;36m_build_session\u001b[1;34m(self)\u001b[0m\n\u001b[0;32m    222\u001b[0m             \u001b[0mstatus\u001b[0m\u001b[1;33m=\u001b[0m\u001b[0mself\u001b[0m\u001b[1;33m.\u001b[0m\u001b[0mstatus_retries\u001b[0m\u001b[1;33m,\u001b[0m\u001b[1;33m\u001b[0m\u001b[1;33m\u001b[0m\u001b[0m\n\u001b[0;32m    223\u001b[0m             \u001b[0mbackoff_factor\u001b[0m\u001b[1;33m=\u001b[0m\u001b[0mself\u001b[0m\u001b[1;33m.\u001b[0m\u001b[0mbackoff_factor\u001b[0m\u001b[1;33m,\u001b[0m\u001b[1;33m\u001b[0m\u001b[1;33m\u001b[0m\u001b[0m\n\u001b[1;32m--> 224\u001b[1;33m             status_forcelist=self.status_forcelist)\n\u001b[0m\u001b[0;32m    225\u001b[0m \u001b[1;33m\u001b[0m\u001b[0m\n\u001b[0;32m    226\u001b[0m         \u001b[0madapter\u001b[0m \u001b[1;33m=\u001b[0m \u001b[0mrequests\u001b[0m\u001b[1;33m.\u001b[0m\u001b[0madapters\u001b[0m\u001b[1;33m.\u001b[0m\u001b[0mHTTPAdapter\u001b[0m\u001b[1;33m(\u001b[0m\u001b[0mmax_retries\u001b[0m\u001b[1;33m=\u001b[0m\u001b[0mretry\u001b[0m\u001b[1;33m)\u001b[0m\u001b[1;33m\u001b[0m\u001b[1;33m\u001b[0m\u001b[0m\n",
      "\u001b[1;31mTypeError\u001b[0m: __init__() got an unexpected keyword argument 'allowed_methods'"
     ]
    }
   ],
   "source": [
    "import spotipy\n",
    "from spotipy.oauth2 import SpotifyClientCredentials\n",
    "client_id = 'cb374d1487b64e8885e16ce15a7bc9ec'\n",
    "client_secret = '37834be63d5749988113289929707bc0'\n",
    "client_credentials_manager = SpotifyClientCredentials(client_id,client_secret)\n",
    "sp = spotipy.Spotify(client_credentials_manager = client_credentials_manager)"
   ]
  },
  {
   "cell_type": "code",
   "execution_count": null,
   "metadata": {},
   "outputs": [],
   "source": []
  },
  {
   "cell_type": "code",
   "execution_count": null,
   "metadata": {},
   "outputs": [],
   "source": []
  }
 ],
 "metadata": {
  "kernelspec": {
   "display_name": "Python 3",
   "language": "python",
   "name": "python3"
  },
  "language_info": {
   "codemirror_mode": {
    "name": "ipython",
    "version": 3
   },
   "file_extension": ".py",
   "mimetype": "text/x-python",
   "name": "python",
   "nbconvert_exporter": "python",
   "pygments_lexer": "ipython3",
   "version": "3.7.4"
  }
 },
 "nbformat": 4,
 "nbformat_minor": 2
}
