{
 "cells": [
  {
   "cell_type": "code",
   "execution_count": null,
   "metadata": {},
   "outputs": [],
   "source": []
  },
  {
   "cell_type": "code",
   "execution_count": 1,
   "metadata": {},
   "outputs": [],
   "source": [
    "import spotipy\n",
    "from spotipy.oauth2 import SpotifyClientCredentials\n",
    "client_id = 'ea66062220eb4a588fdacc438944cbf3'\n",
    "client_secret = 'af2a1b48b6fd43168ba0bf172dca902f'\n",
    "client_credentials_manager = SpotifyClientCredentials(client_id,client_secret)\n",
    "sp = spotipy.Spotify(client_credentials_manager = client_credentials_manager)"
   ]
  },
  {
   "cell_type": "code",
   "execution_count": null,
   "metadata": {},
   "outputs": [],
   "source": [
    "https://spotipy.readthedocs.io/en/2.22.1/"
   ]
  },
  {
   "cell_type": "code",
   "execution_count": null,
   "metadata": {},
   "outputs": [],
   "source": [
    "import spotipy\n",
    "from spotipy.oauth2 import SpotifyClientCredentials\n",
    "\n",
    "birdy_uri = 'spotify:artist:2WX2uTcsvV5OnS0inACecP'\n",
    "spotify = spotipy.Spotify(client_credentials_manager=SpotifyClientCredentials('ea66062220eb4a588fdacc438944cbf3','af2a1b48b6fd43168ba0bf172dca902f'))\n",
    "\n",
    "sp.search(\"artist:Ricky Nelson track:Poor Little Fool\", limit=1, type='track')\n",
    "albums = results['items']\n",
    "while results['next']:\n",
    "    results = spotify.next(results)\n",
    "    albums.extend(results['items'])\n",
    "\n",
    "for album in albums:\n",
    "    print(album['name'])\n"
   ]
  },
  {
   "cell_type": "code",
   "execution_count": 3,
   "metadata": {},
   "outputs": [
    {
     "name": "stdout",
     "output_type": "stream",
     "text": [
      "track    : Stairway to Heaven - Remaster\n",
      "audio    : https://p.scdn.co/mp3-preview/337c8d45ac66899bc2db9ef3ed9438fe1d035ab1?cid=cb374d1487b64e8885e16ce15a7bc9ec\n",
      "cover art: https://i.scdn.co/image/ab67616d0000b273c8a11e48c91a982d086afc69\n",
      "\n",
      "track    : Immigrant Song - Remaster\n",
      "audio    : https://p.scdn.co/mp3-preview/f50f3416ea0807503e172ba87a92d8047d4f95da?cid=cb374d1487b64e8885e16ce15a7bc9ec\n",
      "cover art: https://i.scdn.co/image/ab67616d0000b27390a50cfe99a4c19ff3cbfbdb\n",
      "\n",
      "track    : Whole Lotta Love - 1990 Remaster\n",
      "audio    : https://p.scdn.co/mp3-preview/89f3dc45265602fa874c23d638538af0f2c6b56a?cid=cb374d1487b64e8885e16ce15a7bc9ec\n",
      "cover art: https://i.scdn.co/image/ab67616d0000b273fc4f17340773c6c3579fea0d\n",
      "\n",
      "track    : Black Dog - Remaster\n",
      "audio    : https://p.scdn.co/mp3-preview/78dd352fdbe8d2a867b72c5a71ac44ef6a462ab4?cid=cb374d1487b64e8885e16ce15a7bc9ec\n",
      "cover art: https://i.scdn.co/image/ab67616d0000b273c8a11e48c91a982d086afc69\n",
      "\n",
      "track    : Ramble On - 1990 Remaster\n",
      "audio    : https://p.scdn.co/mp3-preview/e734d4e4f125ff5fbe7d69faa7d505dc744fb7bb?cid=cb374d1487b64e8885e16ce15a7bc9ec\n",
      "cover art: https://i.scdn.co/image/ab67616d0000b273fc4f17340773c6c3579fea0d\n",
      "\n",
      "track    : Rock and Roll - Remaster\n",
      "audio    : https://p.scdn.co/mp3-preview/9464a064068943a58f673035d9ebe58e98f46bea?cid=cb374d1487b64e8885e16ce15a7bc9ec\n",
      "cover art: https://i.scdn.co/image/ab67616d0000b273c8a11e48c91a982d086afc69\n",
      "\n",
      "track    : Good Times Bad Times - 1993 Remaster\n",
      "audio    : https://p.scdn.co/mp3-preview/499f6278a140080d3218c448448d0eb149eb65b7?cid=cb374d1487b64e8885e16ce15a7bc9ec\n",
      "cover art: https://i.scdn.co/image/ab67616d0000b2736f2f499c1df1f210c9b34b32\n",
      "\n",
      "track    : Going to California - Remaster\n",
      "audio    : https://p.scdn.co/mp3-preview/8c2452c1db9c3a7aad2b826cb52303a689814f6e?cid=cb374d1487b64e8885e16ce15a7bc9ec\n",
      "cover art: https://i.scdn.co/image/ab67616d0000b273c8a11e48c91a982d086afc69\n",
      "\n",
      "track    : Kashmir - Remaster\n",
      "audio    : https://p.scdn.co/mp3-preview/4d9bde799eec8913e53c184c45b9fd575690b917?cid=cb374d1487b64e8885e16ce15a7bc9ec\n",
      "cover art: https://i.scdn.co/image/ab67616d0000b273765b0617b572bdd1dbdc7d8e\n",
      "\n",
      "track    : Over the Hills and Far Away - Remaster\n",
      "audio    : https://p.scdn.co/mp3-preview/a828935e429be801aa374eeeb8b2cb0d91755d57?cid=cb374d1487b64e8885e16ce15a7bc9ec\n",
      "cover art: https://i.scdn.co/image/ab67616d0000b2731aa47e71c4edfeaddb65cd54\n",
      "\n"
     ]
    }
   ],
   "source": [
    "import spotipy\n",
    "from spotipy.oauth2 import SpotifyClientCredentials\n",
    "\n",
    "lz_uri = 'spotify:artist:36QJpDe2go2KgaRleHCDTp'\n",
    "\n",
    "spotify = spotipy.Spotify(client_credentials_manager=SpotifyClientCredentials('ea66062220eb4a588fdacc438944cbf3','af2a1b48b6fd43168ba0bf172dca902f'))\n",
    "results = spotify.artist_top_tracks(lz_uri)\n",
    "\n",
    "for track in results['tracks'][:10]:\n",
    "    print('track    : ' + track['name'])\n",
    "    print('audio    : ' + track['preview_url'])\n",
    "    print('cover art: ' + track['album']['images'][0]['url'])\n",
    "    print()"
   ]
  },
  {
   "cell_type": "code",
   "execution_count": null,
   "metadata": {},
   "outputs": [],
   "source": []
  }
 ],
 "metadata": {
  "kernelspec": {
   "display_name": "Python 3",
   "language": "python",
   "name": "python3"
  },
  "language_info": {
   "codemirror_mode": {
    "name": "ipython",
    "version": 3
   },
   "file_extension": ".py",
   "mimetype": "text/x-python",
   "name": "python",
   "nbconvert_exporter": "python",
   "pygments_lexer": "ipython3",
   "version": "3.7.4"
  }
 },
 "nbformat": 4,
 "nbformat_minor": 5
}
