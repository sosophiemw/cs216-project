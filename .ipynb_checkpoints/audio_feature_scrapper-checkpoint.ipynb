{
 "cells": [
  {
   "cell_type": "code",
   "execution_count": 1,
   "metadata": {},
   "outputs": [],
   "source": [
    "import numpy as np\n",
    "import pandas as pd\n",
    "import datetime\n",
    "import seaborn as sns"
   ]
  },
  {
   "cell_type": "code",
   "execution_count": 2,
   "metadata": {},
   "outputs": [],
   "source": [
    "import spotipy\n",
    "from spotipy.oauth2 import SpotifyClientCredentials\n",
    "client_id = '726e4bf5e6464a8594e0f3533dd7baec'\n",
    "client_secret = 'bd9cc836ea53492eb506d7c30dae424d'\n",
    "client_credentials_manager = SpotifyClientCredentials(client_id,client_secret)\n",
    "sp = spotipy.Spotify(client_credentials_manager = client_credentials_manager)"
   ]
  },
  {
   "cell_type": "code",
   "execution_count": 3,
   "metadata": {},
   "outputs": [],
   "source": [
    "first = pd.read_csv(\"first.csv\", index_col=0)\n",
    "second = pd.read_csv(\"second.csv\", index_col=0)\n",
    "third = pd.read_csv(\"third.csv\", index_col=0)\n",
    "fourth = pd.read_csv(\"fourth.csv\", index_col=0)\n",
    "fifth = pd.read_csv(\"fifth.csv\", index_col=0)\n",
    "sixth = pd.read_csv(\"sixth.csv\", index_col=0)"
   ]
  },
  {
   "cell_type": "code",
   "execution_count": null,
   "metadata": {},
   "outputs": [],
   "source": []
  },
  {
   "cell_type": "code",
   "execution_count": 14,
   "metadata": {},
   "outputs": [
    {
     "data": {
      "image/png": "[encoded data removed]",
      "text/plain": [
       "<Figure size 360x360 with 1 Axes>"
      ]
     },
     "metadata": {
      "needs_background": "light"
     },
     "output_type": "display_data"
    }
   ],
   "source": [
    "music=pd.concat([first, second, third, fourth, fifth, sixth])\n",
    "music.dropna()\n",
    "music=music[music['rank']<=15]\n",
    "music[\"year\"]=music[\"date\"].apply(lambda x: datetime.date.fromisoformat(x).year)\n",
    "\n",
    "s =music[\"year\"].value_counts()\n",
    "sns.relplot(x=s.index, y=s.values)\n",
    "\n",
    "\n",
    "track_uri_list=pd.DataFrame()\n",
    "\n",
    "track_uri_list['uri']=pd.Series(music['track_uri'].unique())"
   ]
  },
  {
   "cell_type": "code",
   "execution_count": 15,
   "metadata": {},
   "outputs": [
    {
     "name": "stdout",
     "output_type": "stream",
     "text": [
      "                                             title  \\\n",
      "0                                 Poor Little Fool   \n",
      "1                                         Patricia   \n",
      "2                                    Splish Splash   \n",
      "3                                Hard Headed Woman   \n",
      "4                                             When   \n",
      "...                                            ...   \n",
      "77207                              I'm Good (Blue)   \n",
      "77208  The Christmas Song (Merry Christmas To You)   \n",
      "77209                                Feliz Navidad   \n",
      "77210                                    As It Was   \n",
      "77211                                  Die For You   \n",
      "\n",
      "                                   artist  peakPos  lastPos  weeks  rank  \\\n",
      "0                            Ricky Nelson        1        0      1     1   \n",
      "1           Perez Prado And His Orchestra        2        0      1     2   \n",
      "2                             Bobby Darin        3        0      1     3   \n",
      "3      Elvis Presley With The Jordanaires        4        0      1     4   \n",
      "4                             Kalin Twins        5        0      1     5   \n",
      "...                                   ...      ...      ...    ...   ...   \n",
      "77207           David Guetta & Bebe Rexha        7        7     14    11   \n",
      "77208                       Nat King Cole       11       34     34    12   \n",
      "77209                      Jose Feliciano        6       42     22    13   \n",
      "77210                        Harry Styles        1        8     35    14   \n",
      "77211          The Weeknd & Ariana Grande       12       12     18    15   \n",
      "\n",
      "       isNew        date                             track_uri  year  \n",
      "0       True  1958-08-04  spotify:track:5ayybTSXNwcarDtxQKqvWX  1958  \n",
      "1       True  1958-08-04  spotify:track:2bwhOdCOLgQ8v6xStAqnju  1958  \n",
      "2       True  1958-08-04  spotify:track:40fD7ct05FvQHLdQTgJelG  1958  \n",
      "3       True  1958-08-04  spotify:track:32CVurlBxtEYQlDm3yzCLl  1958  \n",
      "4       True  1958-08-04  spotify:track:3HZJ9BLBpDya4p71VfXSWp  1958  \n",
      "...      ...         ...                                   ...   ...  \n",
      "77207  False  2022-12-04  spotify:track:7DPpYxtgEoufjv2vUyLhFW  2022  \n",
      "77208  False  2022-12-04  spotify:track:4PS1e8f2LvuTFgUs1Cn3ON  2022  \n",
      "77209  False  2022-12-04  spotify:track:0oPdaY4dXtc3ZsaG17V972  2022  \n",
      "77210  False  2022-12-04  spotify:track:4LRPiXqCikLlN15c3yImP7  2022  \n",
      "77211  False  2022-12-04  spotify:track:7oDd86yk8itslrA9HRP2ki  2022  \n",
      "\n",
      "[11595 rows x 10 columns]\n",
      "                                       uri\n",
      "0     spotify:track:5ayybTSXNwcarDtxQKqvWX\n",
      "1     spotify:track:2bwhOdCOLgQ8v6xStAqnju\n",
      "2     spotify:track:40fD7ct05FvQHLdQTgJelG\n",
      "3     spotify:track:32CVurlBxtEYQlDm3yzCLl\n",
      "4     spotify:track:3HZJ9BLBpDya4p71VfXSWp\n",
      "...                                    ...\n",
      "5508  spotify:track:7FmYn9e7KHMXcxqGSj9LjH\n",
      "5509  spotify:track:0A1JLUlkZkp2EFrosoNQi0\n",
      "5510  spotify:track:1bDbXMyjaUIooNwFE9wn0N\n",
      "5511  spotify:track:7DPpYxtgEoufjv2vUyLhFW\n",
      "5512  spotify:track:7oDd86yk8itslrA9HRP2ki\n",
      "\n",
      "[5513 rows x 1 columns]\n"
     ]
    }
   ],
   "source": [
    "print(music)\n",
    "print(track_uri_list)"
   ]
  },
  {
   "cell_type": "code",
   "execution_count": 21,
   "metadata": {},
   "outputs": [],
   "source": [
    "first=track_uri_list[:1000]\n",
    "second=track_uri_list[1000:2000]\n",
    "third=track_uri_list[2000:3000]\n",
    "fourth=track_uri_list[3000:4000]\n",
    "fifth=track_uri_list[4000:]"
   ]
  },
  {
   "cell_type": "code",
   "execution_count": 19,
   "metadata": {},
   "outputs": [
    {
     "name": "stdout",
     "output_type": "stream",
     "text": [
      "0.00018138944313440957\n",
      "<class 'str'>\n",
      "{'danceability': 0.474, 'energy': 0.338, 'key': 0, 'loudness': -11.528, 'mode': 1, 'speechiness': 0.0299, 'acousticness': 0.648, 'instrumentalness': 0, 'liveness': 0.13, 'valence': 0.81, 'tempo': 154.596, 'type': 'audio_features', 'id': '5ayybTSXNwcarDtxQKqvWX', 'uri': 'spotify:track:5ayybTSXNwcarDtxQKqvWX', 'track_href': 'https://api.spotify.com/v1/tracks/5ayybTSXNwcarDtxQKqvWX', 'analysis_url': 'https://api.spotify.com/v1/audio-analysis/5ayybTSXNwcarDtxQKqvWX', 'duration_ms': 153933, 'time_signature': 4}\n",
      "0.00036277888626881915\n",
      "<class 'str'>\n",
      "{'danceability': 0.699, 'energy': 0.715, 'key': 1, 'loudness': -5.976, 'mode': 1, 'speechiness': 0.0391, 'acousticness': 0.18, 'instrumentalness': 0.415, 'liveness': 0.0704, 'valence': 0.81, 'tempo': 137.373, 'type': 'audio_features', 'id': '2bwhOdCOLgQ8v6xStAqnju', 'uri': 'spotify:track:2bwhOdCOLgQ8v6xStAqnju', 'track_href': 'https://api.spotify.com/v1/tracks/2bwhOdCOLgQ8v6xStAqnju', 'analysis_url': 'https://api.spotify.com/v1/audio-analysis/2bwhOdCOLgQ8v6xStAqnju', 'duration_ms': 140000, 'time_signature': 4}\n",
      "0.0005441683294032287\n",
      "<class 'str'>\n",
      "{'danceability': 0.645, 'energy': 0.943, 'key': 0, 'loudness': -1.526, 'mode': 1, 'speechiness': 0.0393, 'acousticness': 0.385, 'instrumentalness': 0, 'liveness': 0.37, 'valence': 0.965, 'tempo': 147.768, 'type': 'audio_features', 'id': '40fD7ct05FvQHLdQTgJelG', 'uri': 'spotify:track:40fD7ct05FvQHLdQTgJelG', 'track_href': 'https://api.spotify.com/v1/tracks/40fD7ct05FvQHLdQTgJelG', 'analysis_url': 'https://api.spotify.com/v1/audio-analysis/40fD7ct05FvQHLdQTgJelG', 'duration_ms': 131720, 'time_signature': 4}\n",
      "0.0007255577725376383\n",
      "<class 'str'>\n",
      "{'danceability': 0.61, 'energy': 0.699, 'key': 0, 'loudness': -8.739, 'mode': 1, 'speechiness': 0.176, 'acousticness': 0.842, 'instrumentalness': 1.85e-06, 'liveness': 0.501, 'valence': 0.859, 'tempo': 97.924, 'type': 'audio_features', 'id': '32CVurlBxtEYQlDm3yzCLl', 'uri': 'spotify:track:32CVurlBxtEYQlDm3yzCLl', 'track_href': 'https://api.spotify.com/v1/tracks/32CVurlBxtEYQlDm3yzCLl', 'analysis_url': 'https://api.spotify.com/v1/audio-analysis/32CVurlBxtEYQlDm3yzCLl', 'duration_ms': 113480, 'time_signature': 4}\n",
      "0.0009069472156720479\n",
      "<class 'str'>\n",
      "{'danceability': 0.666, 'energy': 0.468, 'key': 6, 'loudness': -9.823, 'mode': 1, 'speechiness': 0.0315, 'acousticness': 0.541, 'instrumentalness': 4.09e-05, 'liveness': 0.119, 'valence': 0.946, 'tempo': 93.018, 'type': 'audio_features', 'id': '3HZJ9BLBpDya4p71VfXSWp', 'uri': 'spotify:track:3HZJ9BLBpDya4p71VfXSWp', 'track_href': 'https://api.spotify.com/v1/tracks/3HZJ9BLBpDya4p71VfXSWp', 'analysis_url': 'https://api.spotify.com/v1/audio-analysis/3HZJ9BLBpDya4p71VfXSWp', 'duration_ms': 146573, 'time_signature': 4}\n"
     ]
    }
   ],
   "source": [
    "global total\n",
    "total=0\n",
    "def find_audio_features(uri):\n",
    "    global total\n",
    "    total=total+1\n",
    "    print(total/1000)\n",
    "    audio_features=sp.audio_features(tracks=[uri])\n",
    "    return audio_features[0]\n"
   ]
  },
  {
   "cell_type": "code",
   "execution_count": null,
   "metadata": {},
   "outputs": [],
   "source": [
    "first['features'] = first.apply(lambda uri: find_audio_features(uri['uri']), axis =1)"
   ]
  },
  {
   "cell_type": "code",
   "execution_count": null,
   "metadata": {},
   "outputs": [],
   "source": [
    "first.to_csv('features1.csv')"
   ]
  },
  {
   "cell_type": "code",
   "execution_count": null,
   "metadata": {},
   "outputs": [],
   "source": [
    "second['features'] =second.apply(lambda uri: find_audio_features(uri['uri']), axis =1)"
   ]
  },
  {
   "cell_type": "code",
   "execution_count": null,
   "metadata": {},
   "outputs": [],
   "source": []
  },
  {
   "cell_type": "code",
   "execution_count": null,
   "metadata": {},
   "outputs": [],
   "source": [
    "newseries=clean_music_df.groupby('year')['tempo'].mean()\n",
    "print(newseries)\n",
    "\n",
    "sns.lineplot(data=newseries)\n",
    "plt.gca().set_title(\"Average Tempo of Popular Songs Over Time\")"
   ]
  }
 ],
 "metadata": {
  "kernelspec": {
   "display_name": "Python 3",
   "language": "python",
   "name": "python3"
  },
  "language_info": {
   "codemirror_mode": {
    "name": "ipython",
    "version": 3
   },
   "file_extension": ".py",
   "mimetype": "text/x-python",
   "name": "python",
   "nbconvert_exporter": "python",
   "pygments_lexer": "ipython3",
   "version": "3.7.4"
  }
 },
 "nbformat": 4,
 "nbformat_minor": 2
}
