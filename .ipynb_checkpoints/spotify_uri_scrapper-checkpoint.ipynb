{
 "cells": [
  {
   "cell_type": "code",
   "execution_count": 1,
   "metadata": {},
   "outputs": [],
   "source": [
    "import json\n",
    "import pandas as pd\n",
    "import seaborn as sns\n",
    "import matplotlib.pyplot as plt"
   ]
  },
  {
   "cell_type": "code",
   "execution_count": 2,
   "metadata": {},
   "outputs": [],
   "source": [
    "import spotipy\n",
    "from spotipy.oauth2 import SpotifyClientCredentials\n",
    "client_id = 'cb374d1487b64e8885e16ce15a7bc9ec'\n",
    "client_secret = '37834be63d5749988113289929707bc0'\n",
    "client_credentials_manager = SpotifyClientCredentials(client_id,client_secret)\n",
    "sp = spotipy.Spotify(client_credentials_manager = client_credentials_manager)"
   ]
  },
  {
   "cell_type": "code",
   "execution_count": null,
   "metadata": {},
   "outputs": [],
   "source": [
    "music_df = pd.read_csv(\"billboarddata.csv\", index_col=0)\n",
    "smaller_music_df=music_df[music_df[\"rank\"]<=25]"
   ]
  },
  {
   "cell_type": "code",
   "execution_count": null,
   "metadata": {},
   "outputs": [],
   "source": [
    "print(smaller_music_df)"
   ]
  },
  {
   "cell_type": "code",
   "execution_count": null,
   "metadata": {},
   "outputs": [],
   "source": [
    "global total\n",
    "total=0\n",
    "def find_uri(row):\n",
    "    global total\n",
    "    print(total/19323)\n",
    "    total=total+1\n",
    "    response=sp.search(\"artist:{} track:{}\".format(row[\"artist\"],row[\"title\"]), limit=1, type='track')\n",
    "    items = response['tracks']['items']\n",
    "    if(len(items)>0 and items[0]!=None):\n",
    "        uri=items[0]['uri']\n",
    "    else:\n",
    "        response=sp.search(\"track:{}\".format(row[\"title\"]), limit=1, type='track')\n",
    "        items = response['tracks']['items']\n",
    "        if(len(items)>0 and items[0]!=None):\n",
    "            uri=items[0]['uri']\n",
    "        else:\n",
    "            uri=None\n",
    "    return uri\n",
    "\n",
    "smaller_music_df['track_uri'] = smaller_music_df.apply(lambda row: find_uri(row), axis=1)\n",
    "clean_music_df=smaller_music_df.dropna()\n",
    "uri_list=clean_music_df['track_uri'].tolist()"
   ]
  },
  {
   "cell_type": "code",
   "execution_count": null,
   "metadata": {},
   "outputs": [],
   "source": [
    "print(len(uri_list))"
   ]
  },
  {
   "cell_type": "code",
   "execution_count": null,
   "metadata": {},
   "outputs": [],
   "source": [
    "def find_tempo(row):\n",
    "    audio_features=sp.audio_features(tracks=[row['track_uri']])\n",
    "    return audio_features[0]['tempo']\n",
    "clean_music_df['tempo'] = clean_music_df.apply(lambda row: find_tempo(row), axis=1)\n",
    "newseries=clean_music_df.groupby('year')['tempo'].mean()\n",
    "print(newseries)"
   ]
  },
  {
   "cell_type": "code",
   "execution_count": null,
   "metadata": {},
   "outputs": [],
   "source": [
    "print(clean_music_df)"
   ]
  },
  {
   "cell_type": "code",
   "execution_count": null,
   "metadata": {},
   "outputs": [],
   "source": [
    "sns.lineplot(data=newseries)\n",
    "plt.gca().set_title(\"Average Tempo of Popular Songs Over Time\")"
   ]
  }
 ],
 "metadata": {
  "kernelspec": {
   "display_name": "Python 3",
   "language": "python",
   "name": "python3"
  },
  "language_info": {
   "codemirror_mode": {
    "name": "ipython",
    "version": 3
   },
   "file_extension": ".py",
   "mimetype": "text/x-python",
   "name": "python",
   "nbconvert_exporter": "python",
   "pygments_lexer": "ipython3",
   "version": "3.7.4"
  }
 },
 "nbformat": 4,
 "nbformat_minor": 2
}
