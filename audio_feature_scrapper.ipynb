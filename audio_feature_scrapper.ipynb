{
 "cells": [
  {
   "cell_type": "code",
   "execution_count": 1,
   "metadata": {},
   "outputs": [],
   "source": [
    "import numpy as np\n",
    "import pandas as pd\n",
    "import datetime\n",
    "import seaborn as sns"
   ]
  },
  {
   "cell_type": "code",
   "execution_count": null,
   "metadata": {},
   "outputs": [],
   "source": []
  },
  {
   "cell_type": "code",
   "execution_count": 2,
   "metadata": {},
   "outputs": [],
   "source": [
    "import spotipy\n",
    "from spotipy.oauth2 import SpotifyClientCredentials\n",
    "client_id = '726e4bf5e6464a8594e0f3533dd7baec'\n",
    "client_secret = 'bd9cc836ea53492eb506d7c30dae424d'\n",
    "client_credentials_manager = SpotifyClientCredentials(client_id,client_secret)\n",
    "sp = spotipy.Spotify(client_credentials_manager = client_credentials_manager)"
   ]
  },
  {
   "cell_type": "code",
   "execution_count": 3,
   "metadata": {},
   "outputs": [],
   "source": [
    "first = pd.read_csv(\"first.csv\", index_col=0)\n",
    "second = pd.read_csv(\"second.csv\", index_col=0)\n",
    "third = pd.read_csv(\"third.csv\", index_col=0)\n",
    "fourth = pd.read_csv(\"fourth.csv\", index_col=0)\n",
    "fifth = pd.read_csv(\"fifth.csv\", index_col=0)\n",
    "sixth = pd.read_csv(\"sixth.csv\", index_col=0)"
   ]
  },
  {
   "cell_type": "code",
   "execution_count": 4,
   "metadata": {},
   "outputs": [
    {
     "data": {
      "text/html": [
       "<div>\n",
       "<style scoped>\n",
       "    .dataframe tbody tr th:only-of-type {\n",
       "        vertical-align: middle;\n",
       "    }\n",
       "\n",
       "    .dataframe tbody tr th {\n",
       "        vertical-align: top;\n",
       "    }\n",
       "\n",
       "    .dataframe thead th {\n",
       "        text-align: right;\n",
       "    }\n",
       "</style>\n",
       "<table border=\"1\" class=\"dataframe\">\n",
       "  <thead>\n",
       "    <tr style=\"text-align: right;\">\n",
       "      <th></th>\n",
       "      <th>title</th>\n",
       "      <th>artist</th>\n",
       "      <th>peakPos</th>\n",
       "      <th>lastPos</th>\n",
       "      <th>weeks</th>\n",
       "      <th>rank</th>\n",
       "      <th>isNew</th>\n",
       "      <th>date</th>\n",
       "      <th>track_uri</th>\n",
       "    </tr>\n",
       "  </thead>\n",
       "  <tbody>\n",
       "    <tr>\n",
       "      <th>0</th>\n",
       "      <td>Poor Little Fool</td>\n",
       "      <td>Ricky Nelson</td>\n",
       "      <td>1</td>\n",
       "      <td>0</td>\n",
       "      <td>1</td>\n",
       "      <td>1</td>\n",
       "      <td>True</td>\n",
       "      <td>1958-08-04</td>\n",
       "      <td>spotify:track:5ayybTSXNwcarDtxQKqvWX</td>\n",
       "    </tr>\n",
       "    <tr>\n",
       "      <th>1</th>\n",
       "      <td>Patricia</td>\n",
       "      <td>Perez Prado And His Orchestra</td>\n",
       "      <td>2</td>\n",
       "      <td>0</td>\n",
       "      <td>1</td>\n",
       "      <td>2</td>\n",
       "      <td>True</td>\n",
       "      <td>1958-08-04</td>\n",
       "      <td>spotify:track:2bwhOdCOLgQ8v6xStAqnju</td>\n",
       "    </tr>\n",
       "    <tr>\n",
       "      <th>2</th>\n",
       "      <td>Splish Splash</td>\n",
       "      <td>Bobby Darin</td>\n",
       "      <td>3</td>\n",
       "      <td>0</td>\n",
       "      <td>1</td>\n",
       "      <td>3</td>\n",
       "      <td>True</td>\n",
       "      <td>1958-08-04</td>\n",
       "      <td>spotify:track:40fD7ct05FvQHLdQTgJelG</td>\n",
       "    </tr>\n",
       "    <tr>\n",
       "      <th>3</th>\n",
       "      <td>Hard Headed Woman</td>\n",
       "      <td>Elvis Presley With The Jordanaires</td>\n",
       "      <td>4</td>\n",
       "      <td>0</td>\n",
       "      <td>1</td>\n",
       "      <td>4</td>\n",
       "      <td>True</td>\n",
       "      <td>1958-08-04</td>\n",
       "      <td>spotify:track:32CVurlBxtEYQlDm3yzCLl</td>\n",
       "    </tr>\n",
       "    <tr>\n",
       "      <th>4</th>\n",
       "      <td>When</td>\n",
       "      <td>Kalin Twins</td>\n",
       "      <td>5</td>\n",
       "      <td>0</td>\n",
       "      <td>1</td>\n",
       "      <td>5</td>\n",
       "      <td>True</td>\n",
       "      <td>1958-08-04</td>\n",
       "      <td>spotify:track:3HZJ9BLBpDya4p71VfXSWp</td>\n",
       "    </tr>\n",
       "    <tr>\n",
       "      <th>...</th>\n",
       "      <td>...</td>\n",
       "      <td>...</td>\n",
       "      <td>...</td>\n",
       "      <td>...</td>\n",
       "      <td>...</td>\n",
       "      <td>...</td>\n",
       "      <td>...</td>\n",
       "      <td>...</td>\n",
       "      <td>...</td>\n",
       "    </tr>\n",
       "    <tr>\n",
       "      <th>19921</th>\n",
       "      <td>I Am Love (Parts I &amp; II)</td>\n",
       "      <td>Jackson 5</td>\n",
       "      <td>22</td>\n",
       "      <td>26</td>\n",
       "      <td>8</td>\n",
       "      <td>22</td>\n",
       "      <td>False</td>\n",
       "      <td>1975-03-04</td>\n",
       "      <td>NaN</td>\n",
       "    </tr>\n",
       "    <tr>\n",
       "      <th>19922</th>\n",
       "      <td>Shame, Shame, Shame</td>\n",
       "      <td>Shirley And Company</td>\n",
       "      <td>23</td>\n",
       "      <td>27</td>\n",
       "      <td>9</td>\n",
       "      <td>23</td>\n",
       "      <td>False</td>\n",
       "      <td>1975-03-04</td>\n",
       "      <td>spotify:track:2RvoIv22fdI9Uhife5zdDl</td>\n",
       "    </tr>\n",
       "    <tr>\n",
       "      <th>19923</th>\n",
       "      <td>Nightingale</td>\n",
       "      <td>Carole King</td>\n",
       "      <td>9</td>\n",
       "      <td>9</td>\n",
       "      <td>10</td>\n",
       "      <td>24</td>\n",
       "      <td>False</td>\n",
       "      <td>1975-03-04</td>\n",
       "      <td>spotify:track:2RHjNgxFQMTrCLacGKEJwE</td>\n",
       "    </tr>\n",
       "    <tr>\n",
       "      <th>19924</th>\n",
       "      <td>No No Song/snookeroo</td>\n",
       "      <td>Ringo Starr</td>\n",
       "      <td>25</td>\n",
       "      <td>31</td>\n",
       "      <td>5</td>\n",
       "      <td>25</td>\n",
       "      <td>False</td>\n",
       "      <td>1975-03-04</td>\n",
       "      <td>NaN</td>\n",
       "    </tr>\n",
       "    <tr>\n",
       "      <th>20000</th>\n",
       "      <td>Lovin' You</td>\n",
       "      <td>Minnie Riperton</td>\n",
       "      <td>1</td>\n",
       "      <td>2</td>\n",
       "      <td>12</td>\n",
       "      <td>1</td>\n",
       "      <td>False</td>\n",
       "      <td>1975-04-04</td>\n",
       "      <td>spotify:track:3ebYtLVuV4HzEZUDcpZB9p</td>\n",
       "    </tr>\n",
       "  </tbody>\n",
       "</table>\n",
       "<p>5000 rows × 9 columns</p>\n",
       "</div>"
      ],
      "text/plain": [
       "                          title                              artist  peakPos  \\\n",
       "0              Poor Little Fool                        Ricky Nelson        1   \n",
       "1                      Patricia       Perez Prado And His Orchestra        2   \n",
       "2                 Splish Splash                         Bobby Darin        3   \n",
       "3             Hard Headed Woman  Elvis Presley With The Jordanaires        4   \n",
       "4                          When                         Kalin Twins        5   \n",
       "...                         ...                                 ...      ...   \n",
       "19921  I Am Love (Parts I & II)                           Jackson 5       22   \n",
       "19922       Shame, Shame, Shame                 Shirley And Company       23   \n",
       "19923               Nightingale                         Carole King        9   \n",
       "19924      No No Song/snookeroo                         Ringo Starr       25   \n",
       "20000                Lovin' You                     Minnie Riperton        1   \n",
       "\n",
       "       lastPos  weeks  rank  isNew        date  \\\n",
       "0            0      1     1   True  1958-08-04   \n",
       "1            0      1     2   True  1958-08-04   \n",
       "2            0      1     3   True  1958-08-04   \n",
       "3            0      1     4   True  1958-08-04   \n",
       "4            0      1     5   True  1958-08-04   \n",
       "...        ...    ...   ...    ...         ...   \n",
       "19921       26      8    22  False  1975-03-04   \n",
       "19922       27      9    23  False  1975-03-04   \n",
       "19923        9     10    24  False  1975-03-04   \n",
       "19924       31      5    25  False  1975-03-04   \n",
       "20000        2     12     1  False  1975-04-04   \n",
       "\n",
       "                                  track_uri  \n",
       "0      spotify:track:5ayybTSXNwcarDtxQKqvWX  \n",
       "1      spotify:track:2bwhOdCOLgQ8v6xStAqnju  \n",
       "2      spotify:track:40fD7ct05FvQHLdQTgJelG  \n",
       "3      spotify:track:32CVurlBxtEYQlDm3yzCLl  \n",
       "4      spotify:track:3HZJ9BLBpDya4p71VfXSWp  \n",
       "...                                     ...  \n",
       "19921                                   NaN  \n",
       "19922  spotify:track:2RvoIv22fdI9Uhife5zdDl  \n",
       "19923  spotify:track:2RHjNgxFQMTrCLacGKEJwE  \n",
       "19924                                   NaN  \n",
       "20000  spotify:track:3ebYtLVuV4HzEZUDcpZB9p  \n",
       "\n",
       "[5000 rows x 9 columns]"
      ]
     },
     "execution_count": 4,
     "metadata": {},
     "output_type": "execute_result"
    }
   ],
   "source": [
    "first"
   ]
  },
  {
   "cell_type": "code",
   "execution_count": 15,
   "metadata": {},
   "outputs": [
    {
     "data": {
      "text/plain": [
       "[]"
      ]
     },
     "execution_count": 15,
     "metadata": {},
     "output_type": "execute_result"
    }
   ],
   "source": [
    "sp.album('spotify:album:08TlIPCh7esOAnqBvlmkEt')['genres']"
   ]
  },
  {
   "cell_type": "code",
   "execution_count": null,
   "metadata": {},
   "outputs": [],
   "source": [
    "music=pd.concat([first, second, third, fourth, fifth, sixth])\n",
    "music=music.dropna()\n",
    "music=music[music['rank']<=15]\n",
    "music[\"year\"]=music[\"date\"].apply(lambda x: datetime.date.fromisoformat(x).year)\n",
    "\n",
    "s=music[\"year\"].value_counts()\n",
    "sns.relplot(x=s.index, y=s.values)\n",
    "\n",
    "track_uri_list=pd.DataFrame()\n",
    "\n",
    "track_uri_list['uri']=pd.Series(music['track_uri'].unique())"
   ]
  },
  {
   "cell_type": "code",
   "execution_count": null,
   "metadata": {},
   "outputs": [],
   "source": [
    "print(music)\n",
    "print(track_uri_list)"
   ]
  },
  {
   "cell_type": "code",
   "execution_count": null,
   "metadata": {},
   "outputs": [],
   "source": [
    "first=track_uri_list[:1000]\n",
    "second=track_uri_list[1000:2000]\n",
    "third=track_uri_list[2000:3000]\n",
    "fourth=track_uri_list[3000:4000]\n",
    "fifth=track_uri_list[4000:]\n"
   ]
  },
  {
   "cell_type": "code",
   "execution_count": null,
   "metadata": {},
   "outputs": [],
   "source": []
  },
  {
   "cell_type": "code",
   "execution_count": null,
   "metadata": {},
   "outputs": [],
   "source": [
    "global total\n",
    "total=0\n",
    "def find_audio_features(uri):\n",
    "    global total\n",
    "    total=total+1\n",
    "    print(total/1000)\n",
    "    print(uri)\n",
    "    audio_features=sp.audio_features(tracks=[uri])\n",
    "    return audio_features[0]\n"
   ]
  },
  {
   "cell_type": "code",
   "execution_count": null,
   "metadata": {},
   "outputs": [],
   "source": [
    "first['features'] = first.apply(lambda uri: find_audio_features(uri['uri']), axis =1)"
   ]
  },
  {
   "cell_type": "code",
   "execution_count": null,
   "metadata": {},
   "outputs": [],
   "source": [
    "first.to_csv('features1.csv')"
   ]
  },
  {
   "cell_type": "code",
   "execution_count": null,
   "metadata": {},
   "outputs": [],
   "source": [
    "second['features'] =second.apply(lambda uri: find_audio_features(uri['uri']), axis =1)"
   ]
  },
  {
   "cell_type": "code",
   "execution_count": null,
   "metadata": {},
   "outputs": [],
   "source": [
    "second.to_csv('features2.csv')"
   ]
  },
  {
   "cell_type": "code",
   "execution_count": null,
   "metadata": {},
   "outputs": [],
   "source": [
    "third['features'] = third.apply(lambda uri: find_audio_features(uri['uri']), axis =1)"
   ]
  },
  {
   "cell_type": "code",
   "execution_count": null,
   "metadata": {},
   "outputs": [],
   "source": [
    "third.to_csv('features3.csv')"
   ]
  },
  {
   "cell_type": "code",
   "execution_count": null,
   "metadata": {},
   "outputs": [],
   "source": [
    "fourth['features'] = fourth.apply(lambda uri: find_audio_features(uri['uri']), axis =1)"
   ]
  },
  {
   "cell_type": "code",
   "execution_count": null,
   "metadata": {},
   "outputs": [],
   "source": [
    "fourth.to_csv('features4.csv')"
   ]
  },
  {
   "cell_type": "code",
   "execution_count": null,
   "metadata": {},
   "outputs": [],
   "source": [
    "fifth['features'] = fifth.apply(lambda uri: find_audio_features(uri['uri']), axis=1 )"
   ]
  },
  {
   "cell_type": "code",
   "execution_count": null,
   "metadata": {},
   "outputs": [],
   "source": [
    "fifth.to_csv('features5.csv')"
   ]
  },
  {
   "cell_type": "code",
   "execution_count": null,
   "metadata": {},
   "outputs": [],
   "source": [
    "newseries=clean_music_df.groupby('year')['tempo'].mean()\n",
    "print(newseries)\n",
    "\n",
    "sns.lineplot(data=newseries)\n",
    "plt.gca().set_title(\"Average Tempo of Popular Songs Over Time\")"
   ]
  }
 ],
 "metadata": {
  "kernelspec": {
   "display_name": "Python 3",
   "language": "python",
   "name": "python3"
  },
  "language_info": {
   "codemirror_mode": {
    "name": "ipython",
    "version": 3
   },
   "file_extension": ".py",
   "mimetype": "text/x-python",
   "name": "python",
   "nbconvert_exporter": "python",
   "pygments_lexer": "ipython3",
   "version": "3.7.4"
  }
 },
 "nbformat": 4,
 "nbformat_minor": 2
}
